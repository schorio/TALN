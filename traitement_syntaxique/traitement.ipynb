{
 "cells": [
  {
   "cell_type": "code",
   "execution_count": null,
   "metadata": {},
   "outputs": [],
   "source": [
    "# Charger les contenus d'un fichier texte\n",
    "\n",
    "t_txt = open('texte.txt', \"r\")\n",
    "Text_txt = t_txt.read()\n",
    "text_txt = (Text_txt).lower()"
   ]
  }
 ],
 "metadata": {
  "language_info": {
   "name": "python"
  },
  "orig_nbformat": 4
 },
 "nbformat": 4,
 "nbformat_minor": 2
}
