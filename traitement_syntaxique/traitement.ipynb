{
 "cells": [
  {
   "cell_type": "code",
   "execution_count": 4,
   "metadata": {},
   "outputs": [],
   "source": [
    "import nltk\n",
    "from nltk.tokenize import word_tokenize"
   ]
  },
  {
   "cell_type": "code",
   "execution_count": 5,
   "metadata": {},
   "outputs": [],
   "source": [
    "# Charger les contenus d'un fichier texte\n",
    "\n",
    "t_txt = open('texte.txt', \"r\")\n",
    "Text_txt = t_txt.read()\n",
    "text_txt = (Text_txt).lower()"
   ]
  },
  {
   "cell_type": "code",
   "execution_count": 6,
   "metadata": {},
   "outputs": [
    {
     "name": "stdout",
     "output_type": "stream",
     "text": [
      "['the', 'boy', 'with', 'fair', 'hair', 'lowered', 'himself', 'down', 'the', 'last', 'few', 'feet', 'of', 'rock', 'and', 'began', 'to', 'pick', 'his', 'way', 'toward', 'the', 'lagoon', '.', 'though', 'he', 'had', 'taken', 'off', 'his', 'school', 'sweater', 'and', 'trailed', 'it', 'now', 'from', 'one', 'hand', ',', 'his', 'grey', 'shirt', 'stuck', 'to', 'him', 'and', 'his', 'hair', 'was', 'plastered', 'to', 'his', 'forehead', '.', 'all', 'round', 'him', 'the', 'long', 'scar', 'smashed', 'into', 'the', 'jungle', 'was', 'a', 'bath', 'of', 'heat', '.', 'he', 'was', 'clambering', 'heavily', 'among', 'the', 'creepers', 'and', 'broken', 'trunks', 'when', 'a', 'bird', ',', 'a', 'vision', 'of', 'red', 'and', 'yellow', ',', 'flashed', 'upwards', 'with', 'a', 'witch-like', 'cry', ';', 'and', 'this', 'cry', 'was', 'echoed', 'by', 'another', '.']\n",
      "107\n"
     ]
    }
   ],
   "source": [
    "# Tokenisation\n",
    "tokens = nltk.word_tokenize(text_txt)\n",
    "# tokens = [token for token in tokens if token not in stop_words]\n",
    "print(tokens)\n",
    "print(len(tokens))"
   ]
  }
 ],
 "metadata": {
  "language_info": {
   "name": "python"
  },
  "orig_nbformat": 4
 },
 "nbformat": 4,
 "nbformat_minor": 2
}
