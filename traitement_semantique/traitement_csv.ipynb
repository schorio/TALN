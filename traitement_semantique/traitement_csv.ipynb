{
 "cells": [
  {
   "cell_type": "code",
   "execution_count": 1,
   "metadata": {},
   "outputs": [],
   "source": [
    "import os\n",
    "import nltk\n",
    "import re\n",
    "from nltk.tokenize import word_tokenize\n",
    "from nltk import pos_tag\n",
    "import csv"
   ]
  },
  {
   "cell_type": "code",
   "execution_count": 2,
   "metadata": {},
   "outputs": [],
   "source": [
    "# Merger tout les documents\n",
    "chemin_dossier_1 = 'datasets/train/food'\n",
    "chemin_dossier_2 = 'datasets/train/sport'\n",
    "chemin_dossier_3 = 'datasets/train/art'\n",
    "chemin_dossier_4 = 'datasets/train/others'\n",
    "texte_food = ''\n",
    "texte_sport = ''\n",
    "texte_art = ''\n",
    "texte_others = ''\n",
    "\n",
    "\n",
    "for nom_fichier in os.listdir(chemin_dossier_1):\n",
    "    if nom_fichier.endswith('.txt'):\n",
    "        chemin_fichier = os.path.join(chemin_dossier_1, nom_fichier)\n",
    "        with open(chemin_fichier, 'r') as fichier:\n",
    "            contenu = fichier.read()\n",
    "            \n",
    "        texte_food += contenu\n",
    "        \n",
    "        \n",
    "for nom_fichier in os.listdir(chemin_dossier_2):\n",
    "    if nom_fichier.endswith('.txt'):\n",
    "        chemin_fichier = os.path.join(chemin_dossier_2, nom_fichier)\n",
    "        with open(chemin_fichier, 'r') as fichier:\n",
    "            contenu = fichier.read()\n",
    "            \n",
    "        texte_sport += contenu\n",
    "     \n",
    "        \n",
    "for nom_fichier in os.listdir(chemin_dossier_3):\n",
    "    if nom_fichier.endswith('.txt'):\n",
    "        chemin_fichier = os.path.join(chemin_dossier_3, nom_fichier)\n",
    "        with open(chemin_fichier, 'r') as fichier:\n",
    "            contenu = fichier.read()\n",
    "            \n",
    "        texte_art += contenu\n",
    "   \n",
    "        \n",
    "for nom_fichier in os.listdir(chemin_dossier_4):\n",
    "    if nom_fichier.endswith('.txt'):\n",
    "        chemin_fichier = os.path.join(chemin_dossier_4, nom_fichier)\n",
    "        with open(chemin_fichier, 'r') as fichier:\n",
    "            contenu = fichier.read()\n",
    "            \n",
    "        texte_others += contenu\n",
    "      \n",
    "        \n",
    "texte_entier = (texte_food + \" \" + texte_sport + \" \" + texte_art + \" \" + texte_others).lower()\n"
   ]
  },
  {
   "cell_type": "code",
   "execution_count": 4,
   "metadata": {},
   "outputs": [],
   "source": [
    "# Tokenisation\n",
    "tokens_texte = nltk.word_tokenize(texte_entier)\n",
    "\n",
    "\n",
    "# Extraction des noms et des verbes dans le texte entier\n",
    "mots_tagger = pos_tag(tokens_texte)\n",
    "mots = [word for word, pos in mots_tagger if pos in ['NN', 'NNP', 'VB', 'VBD', 'VBG', 'VBN', 'VBP', 'VBZ']]\n",
    "\n",
    "\n",
    "# supression du caractere speciaux de chaque mot du tableau\n",
    "vocabulaire = []\n",
    "for j in mots:\n",
    "    text = re.sub(r\"[^a-z]\",\"\",j)\n",
    "    vocabulaire.append(text)\n",
    "\n",
    "\n",
    "# supression des emplacement libre dans le tableau\n",
    "vocabulaires = list(filter(lambda x: x!=\"\",vocabulaire))\n",
    "\n",
    "# Supprimer les doublons\n",
    "vocabulaires = list(set(vocabulaires))"
   ]
  },
  {
   "cell_type": "code",
   "execution_count": 5,
   "metadata": {},
   "outputs": [
    {
     "name": "stdout",
     "output_type": "stream",
     "text": [
      "21994\n"
     ]
    }
   ],
   "source": [
    "print(len(vocabulaires))"
   ]
  }
 ],
 "metadata": {
  "kernelspec": {
   "display_name": "Python 3",
   "language": "python",
   "name": "python3"
  },
  "language_info": {
   "codemirror_mode": {
    "name": "ipython",
    "version": 3
   },
   "file_extension": ".py",
   "mimetype": "text/x-python",
   "name": "python",
   "nbconvert_exporter": "python",
   "pygments_lexer": "ipython3",
   "version": "3.10.12"
  }
 },
 "nbformat": 4,
 "nbformat_minor": 2
}
